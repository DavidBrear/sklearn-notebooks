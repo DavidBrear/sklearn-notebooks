{
 "cells": [
  {
   "cell_type": "code",
   "execution_count": 1,
   "metadata": {
    "collapsed": true
   },
   "outputs": [],
   "source": [
    "import numpy as np\n",
    "import mahotas as mh\n",
    "from mahotas.features import surf\n",
    "from sklearn.linear_model import LogisticRegression\n",
    "from sklearn.metrics import *\n",
    "from sklearn.cluster import MiniBatchKMeans\n",
    "import glob"
   ]
  },
  {
   "cell_type": "code",
   "execution_count": 3,
   "metadata": {
    "collapsed": false
   },
   "outputs": [
    {
     "name": "stdout",
     "output_type": "stream",
     "text": [
      "Reading image: ./data/dog-v-cat/train/cat.0.jpg\n"
     ]
    },
    {
     "ename": "ImportError",
     "evalue": "\nmahotas.imread depends on one of (in order of preference):\n\n1. imread\n2. freeimage\n3. pillow (PIL)\n\nNone of which could be found!\n\nEverything else will work, though, so this error is only triggered when you\nattempt to use these optional functions.\n\nTo install imread:\n\nOn **Ubuntu**, run the following commands::\n\n    sudo apt-get install libpng12-dev libtiff4-dev libwebp-dev python-pip python-dev g++\n    sudo pip install imread\n\nOn **Mac OS**, if using ``port``, run the following commands::\n\n    sudo port install libpng tiff webp\n    sudo pip install imread\n\nOn **Windows**, use Christoph Gohlke's packages. See:\n\nhttp://www.lfd.uci.edu/~gohlke/pythonlibs/#imread\n\n\n\n\nTo install FreeImage:\n\nYou need to have the freeimage installed for imread/imsave (everything else\nwill work, though, so this error is only triggered when you attempt to use\nthese optional functions). Freeimage is not a Python package, but a regular\npackage.\n\nUnder Linux, look for a package called `freeimage` in your distribution (it is\nactually called `libfreeimage3` in debian/ubuntu, for example).\n\nUnder Windows, consider using the third-party mahotas packages at\nhttp://www.lfd.uci.edu/~gohlke/pythonlibs/ (kindly maintained by Christoph\nGohlke), which already package freeimage.\n\nFull error was: mahotas.freeimage: could not find libFreeImage in any of thefollowing directories: '/usr/local/lib/python2.7/site-packages/mahotas/io', '/lib', '/usr/lib', '/usr/local/lib', '/opt/local/lib'",
     "output_type": "error",
     "traceback": [
      "\u001b[0;31m---------------------------------------------------------------------------\u001b[0m",
      "\u001b[0;31mImportError\u001b[0m                               Traceback (most recent call last)",
      "\u001b[0;32m<ipython-input-3-6a674fc91b1b>\u001b[0m in \u001b[0;36m<module>\u001b[0;34m()\u001b[0m\n\u001b[1;32m     11\u001b[0m \u001b[0;32mfor\u001b[0m \u001b[0mf\u001b[0m \u001b[0;32min\u001b[0m \u001b[0mall_instance_filenames\u001b[0m\u001b[0;34m:\u001b[0m\u001b[0;34m\u001b[0m\u001b[0m\n\u001b[1;32m     12\u001b[0m     \u001b[0;32mprint\u001b[0m \u001b[0;34m'Reading image:'\u001b[0m\u001b[0;34m,\u001b[0m \u001b[0mf\u001b[0m\u001b[0;34m\u001b[0m\u001b[0m\n\u001b[0;32m---> 13\u001b[0;31m     \u001b[0mimage\u001b[0m \u001b[0;34m=\u001b[0m \u001b[0mmh\u001b[0m\u001b[0;34m.\u001b[0m\u001b[0mimread\u001b[0m\u001b[0;34m(\u001b[0m\u001b[0mf\u001b[0m\u001b[0;34m,\u001b[0m \u001b[0mas_grey\u001b[0m\u001b[0;34m=\u001b[0m\u001b[0mTrue\u001b[0m\u001b[0;34m)\u001b[0m\u001b[0;34m\u001b[0m\u001b[0m\n\u001b[0m\u001b[1;32m     14\u001b[0m     \u001b[0msurf_features\u001b[0m\u001b[0;34m.\u001b[0m\u001b[0mappend\u001b[0m\u001b[0;34m(\u001b[0m\u001b[0msurf\u001b[0m\u001b[0;34m.\u001b[0m\u001b[0msurf\u001b[0m\u001b[0;34m(\u001b[0m\u001b[0mimage\u001b[0m\u001b[0;34m)\u001b[0m\u001b[0;34m[\u001b[0m\u001b[0;34m:\u001b[0m\u001b[0;34m,\u001b[0m \u001b[0;36m5\u001b[0m\u001b[0;34m:\u001b[0m\u001b[0;34m]\u001b[0m\u001b[0;34m)\u001b[0m\u001b[0;34m\u001b[0m\u001b[0m\n",
      "\u001b[0;32m/usr/local/lib/python2.7/site-packages/mahotas/io/__init__.pyc\u001b[0m in \u001b[0;36merror_imread\u001b[0;34m(*args, **kwargs)\u001b[0m\n\u001b[1;32m     47\u001b[0m Full error was: %s'''\n\u001b[1;32m     48\u001b[0m \u001b[0;32mdef\u001b[0m \u001b[0merror_imread\u001b[0m\u001b[0;34m(\u001b[0m\u001b[0;34m*\u001b[0m\u001b[0margs\u001b[0m\u001b[0;34m,\u001b[0m \u001b[0;34m**\u001b[0m\u001b[0mkwargs\u001b[0m\u001b[0;34m)\u001b[0m\u001b[0;34m:\u001b[0m\u001b[0;34m\u001b[0m\u001b[0m\n\u001b[0;32m---> 49\u001b[0;31m     \u001b[0;32mraise\u001b[0m \u001b[0mImportError\u001b[0m\u001b[0;34m(\u001b[0m\u001b[0m_error_message\u001b[0m \u001b[0;34m%\u001b[0m \u001b[0;34m'imread'\u001b[0m\u001b[0;34m)\u001b[0m\u001b[0;34m\u001b[0m\u001b[0m\n\u001b[0m\u001b[1;32m     50\u001b[0m \u001b[0;32mdef\u001b[0m \u001b[0merror_imsave\u001b[0m\u001b[0;34m(\u001b[0m\u001b[0;34m*\u001b[0m\u001b[0margs\u001b[0m\u001b[0;34m,\u001b[0m \u001b[0;34m**\u001b[0m\u001b[0mkwargs\u001b[0m\u001b[0;34m)\u001b[0m\u001b[0;34m:\u001b[0m\u001b[0;34m\u001b[0m\u001b[0m\n\u001b[1;32m     51\u001b[0m     \u001b[0;32mraise\u001b[0m \u001b[0mImportError\u001b[0m\u001b[0;34m(\u001b[0m\u001b[0m_error_message\u001b[0m \u001b[0;34m%\u001b[0m \u001b[0;34m'imsave'\u001b[0m\u001b[0;34m)\u001b[0m\u001b[0;34m\u001b[0m\u001b[0m\n",
      "\u001b[0;31mImportError\u001b[0m: \nmahotas.imread depends on one of (in order of preference):\n\n1. imread\n2. freeimage\n3. pillow (PIL)\n\nNone of which could be found!\n\nEverything else will work, though, so this error is only triggered when you\nattempt to use these optional functions.\n\nTo install imread:\n\nOn **Ubuntu**, run the following commands::\n\n    sudo apt-get install libpng12-dev libtiff4-dev libwebp-dev python-pip python-dev g++\n    sudo pip install imread\n\nOn **Mac OS**, if using ``port``, run the following commands::\n\n    sudo port install libpng tiff webp\n    sudo pip install imread\n\nOn **Windows**, use Christoph Gohlke's packages. See:\n\nhttp://www.lfd.uci.edu/~gohlke/pythonlibs/#imread\n\n\n\n\nTo install FreeImage:\n\nYou need to have the freeimage installed for imread/imsave (everything else\nwill work, though, so this error is only triggered when you attempt to use\nthese optional functions). Freeimage is not a Python package, but a regular\npackage.\n\nUnder Linux, look for a package called `freeimage` in your distribution (it is\nactually called `libfreeimage3` in debian/ubuntu, for example).\n\nUnder Windows, consider using the third-party mahotas packages at\nhttp://www.lfd.uci.edu/~gohlke/pythonlibs/ (kindly maintained by Christoph\nGohlke), which already package freeimage.\n\nFull error was: mahotas.freeimage: could not find libFreeImage in any of thefollowing directories: '/usr/local/lib/python2.7/site-packages/mahotas/io', '/lib', '/usr/lib', '/usr/local/lib', '/opt/local/lib'"
     ]
    }
   ],
   "source": [
    "all_instance_filenames = []\n",
    "all_instance_targets = []\n",
    "\n",
    "for f in glob.glob('./data/dog-v-cat/train/*.jpg'):\n",
    "    target = 1 if 'cat' in f else 0\n",
    "    all_instance_filenames.append(f)\n",
    "    all_instance_targets.append(target)\n",
    "    \n",
    "surf_features = []\n",
    "counter = 0\n",
    "for f in all_instance_filenames:\n",
    "    print 'Reading image:', f\n",
    "    image = mh.imread(f, as_grey=True)\n",
    "    surf_features.append(surf.surf(image)[:, 5:])"
   ]
  },
  {
   "cell_type": "code",
   "execution_count": null,
   "metadata": {
    "collapsed": true
   },
   "outputs": [],
   "source": []
  }
 ],
 "metadata": {
  "kernelspec": {
   "display_name": "Python 2",
   "language": "python",
   "name": "python2"
  },
  "language_info": {
   "codemirror_mode": {
    "name": "ipython",
    "version": 2
   },
   "file_extension": ".py",
   "mimetype": "text/x-python",
   "name": "python",
   "nbconvert_exporter": "python",
   "pygments_lexer": "ipython2",
   "version": "2.7.8"
  }
 },
 "nbformat": 4,
 "nbformat_minor": 0
}
